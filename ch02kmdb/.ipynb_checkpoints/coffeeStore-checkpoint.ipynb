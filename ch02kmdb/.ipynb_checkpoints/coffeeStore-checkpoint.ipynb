{
 "cells": [
  {
   "cell_type": "code",
   "execution_count": 31,
   "id": "609e4379-88b9-4e55-b925-01b9e57ff1d4",
   "metadata": {},
   "outputs": [],
   "source": [
    "import pandas as pd\n",
    "import numpy as np\n",
    "import folium\n",
    "import requests\n",
    "\n",
    "from bs4 import BeautifulSoup\n",
    "\n",
    "# pip install tqdm : progressBar 구현\n",
    "from tqdm.notebook import tqdm \n",
    "from selenium import webdriver\n",
    "\n",
    "from selenium.webdriver.common.by import By\n",
    "from selenium.webdriver.support.ui import WebDriverWait\n",
    "from selenium.webdriver.support import expected_conditions as EC\n",
    "from selenium.webdriver.chrome.service import Service\n",
    "\n",
    "# jupyter nbconvert --to script coffeeStore.ipynb"
   ]
  },
  {
   "cell_type": "code",
   "execution_count": 32,
   "id": "63decd28-f3b9-4ace-a33a-f873f7a20f37",
   "metadata": {},
   "outputs": [
    {
     "name": "stdout",
     "output_type": "stream",
     "text": [
      "<class 'selenium.webdriver.chrome.webdriver.WebDriver'>\n"
     ]
    }
   ],
   "source": [
    "chrome_options = webdriver.ChromeOptions() # 크롬 브라우저 옵션\n",
    "drive_path = 'chromedriver.exe' # 다운로드 받은 드라이버 파일\n",
    "myservice = Service(drive_path) # 드라이버 제어를 위한 서비스 객체\n",
    "driver = webdriver.Chrome(service=myservice, options=chrome_options) # 드라이버 객체\n",
    "print(type(driver)) # 객체가 잘 생성되었는 지 확인\n",
    "\n",
    "wait_time = 10 # 최대 대기 시간\n",
    "driver.implicitly_wait(wait_time)"
   ]
  },
  {
   "cell_type": "code",
   "execution_count": 33,
   "id": "52175ac5-0b42-4d11-afd7-87a016e82213",
   "metadata": {},
   "outputs": [],
   "source": [
    "driver.maximize_window() # 윈도우 창 최대화"
   ]
  },
  {
   "cell_type": "code",
   "execution_count": 34,
   "id": "041b9c02-e969-41b0-a299-f1c8fbbd6863",
   "metadata": {},
   "outputs": [],
   "source": [
    "# 스타벅스) 매장 찾기-지역 검색 링크 주소\n",
    "starbucks_url = 'https://www.starbucks.co.kr/store/store_map.do?disp=locale'\n",
    "driver.get(starbucks_url) # 해당 페이지로 이동하기"
   ]
  },
  {
   "cell_type": "code",
   "execution_count": 35,
   "id": "6e106a74-8490-4784-b3eb-e2570abc3f92",
   "metadata": {},
   "outputs": [],
   "source": [
    "# 스타벅스) '서울' 링크 클릭\n",
    "starbucks_seoul_selector = '#container > div > form > fieldset > div > section > article.find_store_cont > article > article:nth-child(4) > div.loca_step1 > div.loca_step1_cont > ul > li:nth-child(1) > a'\n",
    "WebDriverWait(driver, 5).until(EC.presence_of_element_located((By.CSS_SELECTOR, starbucks_seoul_selector))).click()"
   ]
  },
  {
   "cell_type": "code",
   "execution_count": 36,
   "id": "68d9c60c-a919-4c90-bf85-e89037dc4760",
   "metadata": {},
   "outputs": [],
   "source": [
    "# 스타벅스) '서울'-'전체' 클릭\n",
    "starbuck_seoul_all = '#mCSB_2_container > ul > li:nth-child(1) > a'\n",
    "WebDriverWait(driver, 5).until(EC.presence_of_element_located((By.CSS_SELECTOR, starbuck_seoul_all))).click()"
   ]
  },
  {
   "cell_type": "code",
   "execution_count": 37,
   "id": "bef2a1ed-e9bf-44b7-bb8e-308bd75c690e",
   "metadata": {},
   "outputs": [
    {
     "name": "stdout",
     "output_type": "stream",
     "text": [
      "starbucks.html 파일 생성됨\n"
     ]
    }
   ],
   "source": [
    "# 스타벅스 html 코드를 파싱하여 html 파일에 기록합니다.\n",
    "html = driver.page_source # 해당 페이지의 소스 코드 반환\n",
    "filename = 'starbucks.html'\n",
    "htmlfile = open(filename, 'w', encoding='UTF-8')\n",
    "print(html, file=htmlfile)\n",
    "htmlfile.close()\n",
    "print(filename + ' 파일 생성됨')"
   ]
  },
  {
   "cell_type": "code",
   "execution_count": 38,
   "id": "042180c5-71ff-47cd-abfb-4c7bb812a464",
   "metadata": {},
   "outputs": [
    {
     "name": "stdout",
     "output_type": "stream",
     "text": [
      "<class 'bs4.BeautifulSoup'>\n"
     ]
    }
   ],
   "source": [
    "# https://www.crummy.com/software/BeautifulSoup/bs4/doc/\n",
    "# 파싱된 결과를 Beautiful Soup 객체로 생성합니다.\n",
    "soup = BeautifulSoup(html, 'html.parser')\n",
    "print(type(soup))"
   ]
  },
  {
   "cell_type": "code",
   "execution_count": 39,
   "id": "7f8fad3a-1453-4798-8717-fcab6d7442f3",
   "metadata": {},
   "outputs": [
    {
     "name": "stdout",
     "output_type": "stream",
     "text": [
      "storeAll : 615\n"
     ]
    }
   ],
   "source": [
    "# 매장 정보들을 담고 있는 컨테이너 박스를 찾습니다.\n",
    "# 컨테이너는 div 태그이고, id가 mCSB_3_container입니다.\n",
    "container = soup.find('div', id='mCSB_3_container')\n",
    "storeAll = container.find_all('li')\n",
    "print('storeAll : %d' % len(storeAll))"
   ]
  },
  {
   "cell_type": "code",
   "execution_count": 57,
   "id": "0f10573b-fc6f-4b67-89b6-cdc1eb4f949a",
   "metadata": {},
   "outputs": [
    {
     "name": "stdout",
     "output_type": "stream",
     "text": [
      "615\n"
     ]
    }
   ],
   "source": [
    "starbucksData = []\n",
    "\n",
    "for store in storeAll:\n",
    "    # print(store)\n",
    "    brand = '스타벅스'\n",
    "    name = store.find('strong').text.strip()\n",
    "    address = store.find('p').text.strip().replace('1522-3232', '')\n",
    "    imsi = address.split(' ')\n",
    "    sido = imsi[0]\n",
    "    gu = imsi[1]\n",
    "    latitude = store['data-lat'] # 위도\n",
    "    longitude = store['data-long'] # 경도\n",
    "\n",
    "    starbucksData.append([brand, name, address, sido, gu, latitude, longitude])\n",
    "    # break\n",
    "\n",
    "print(len(starbucksData))"
   ]
  },
  {
   "cell_type": "code",
   "execution_count": 59,
   "id": "6dd78772-4595-47fa-a46f-a15a5e57e771",
   "metadata": {},
   "outputs": [
    {
     "data": {
      "text/html": [
       "<div>\n",
       "<style scoped>\n",
       "    .dataframe tbody tr th:only-of-type {\n",
       "        vertical-align: middle;\n",
       "    }\n",
       "\n",
       "    .dataframe tbody tr th {\n",
       "        vertical-align: top;\n",
       "    }\n",
       "\n",
       "    .dataframe thead th {\n",
       "        text-align: right;\n",
       "    }\n",
       "</style>\n",
       "<table border=\"1\" class=\"dataframe\">\n",
       "  <thead>\n",
       "    <tr style=\"text-align: right;\">\n",
       "      <th></th>\n",
       "      <th>브랜드</th>\n",
       "      <th>상호</th>\n",
       "      <th>주소</th>\n",
       "      <th>시도</th>\n",
       "      <th>군구</th>\n",
       "      <th>위도</th>\n",
       "      <th>경도</th>\n",
       "    </tr>\n",
       "  </thead>\n",
       "  <tbody>\n",
       "    <tr>\n",
       "      <th>0</th>\n",
       "      <td>스타벅스</td>\n",
       "      <td>역삼아레나빌딩</td>\n",
       "      <td>서울특별시 강남구 언주로 425 (역삼동)</td>\n",
       "      <td>서울특별시</td>\n",
       "      <td>강남구</td>\n",
       "      <td>37.501087</td>\n",
       "      <td>127.043069</td>\n",
       "    </tr>\n",
       "    <tr>\n",
       "      <th>1</th>\n",
       "      <td>스타벅스</td>\n",
       "      <td>논현역사거리</td>\n",
       "      <td>서울특별시 강남구 강남대로 538 (논현동)</td>\n",
       "      <td>서울특별시</td>\n",
       "      <td>강남구</td>\n",
       "      <td>37.510178</td>\n",
       "      <td>127.022223</td>\n",
       "    </tr>\n",
       "    <tr>\n",
       "      <th>2</th>\n",
       "      <td>스타벅스</td>\n",
       "      <td>신사역성일빌딩</td>\n",
       "      <td>서울특별시 강남구 강남대로 584 (논현동)</td>\n",
       "      <td>서울특별시</td>\n",
       "      <td>강남구</td>\n",
       "      <td>37.5139309</td>\n",
       "      <td>127.0206057</td>\n",
       "    </tr>\n",
       "    <tr>\n",
       "      <th>3</th>\n",
       "      <td>스타벅스</td>\n",
       "      <td>국기원사거리</td>\n",
       "      <td>서울특별시 강남구 테헤란로 125 (역삼동)</td>\n",
       "      <td>서울특별시</td>\n",
       "      <td>강남구</td>\n",
       "      <td>37.499517</td>\n",
       "      <td>127.031495</td>\n",
       "    </tr>\n",
       "    <tr>\n",
       "      <th>4</th>\n",
       "      <td>스타벅스</td>\n",
       "      <td>대치재경빌딩</td>\n",
       "      <td>서울특별시 강남구 남부순환로 2947 (대치동)</td>\n",
       "      <td>서울특별시</td>\n",
       "      <td>강남구</td>\n",
       "      <td>37.494668</td>\n",
       "      <td>127.062583</td>\n",
       "    </tr>\n",
       "    <tr>\n",
       "      <th>5</th>\n",
       "      <td>스타벅스</td>\n",
       "      <td>봉은사역</td>\n",
       "      <td>서울특별시 강남구 봉은사로 619 (삼성동)</td>\n",
       "      <td>서울특별시</td>\n",
       "      <td>강남구</td>\n",
       "      <td>37.515000</td>\n",
       "      <td>127.063196</td>\n",
       "    </tr>\n",
       "    <tr>\n",
       "      <th>6</th>\n",
       "      <td>스타벅스</td>\n",
       "      <td>압구정윤성빌딩</td>\n",
       "      <td>서울특별시 강남구 논현로 834 (신사동)</td>\n",
       "      <td>서울특별시</td>\n",
       "      <td>강남구</td>\n",
       "      <td>37.5227934</td>\n",
       "      <td>127.0286009</td>\n",
       "    </tr>\n",
       "  </tbody>\n",
       "</table>\n",
       "</div>"
      ],
      "text/plain": [
       "    브랜드       상호                          주소     시도   군구          위도  \\\n",
       "0  스타벅스  역삼아레나빌딩     서울특별시 강남구 언주로 425 (역삼동)  서울특별시  강남구   37.501087   \n",
       "1  스타벅스   논현역사거리    서울특별시 강남구 강남대로 538 (논현동)  서울특별시  강남구   37.510178   \n",
       "2  스타벅스  신사역성일빌딩    서울특별시 강남구 강남대로 584 (논현동)  서울특별시  강남구  37.5139309   \n",
       "3  스타벅스   국기원사거리    서울특별시 강남구 테헤란로 125 (역삼동)  서울특별시  강남구   37.499517   \n",
       "4  스타벅스   대치재경빌딩  서울특별시 강남구 남부순환로 2947 (대치동)  서울특별시  강남구   37.494668   \n",
       "5  스타벅스     봉은사역    서울특별시 강남구 봉은사로 619 (삼성동)  서울특별시  강남구   37.515000   \n",
       "6  스타벅스  압구정윤성빌딩     서울특별시 강남구 논현로 834 (신사동)  서울특별시  강남구  37.5227934   \n",
       "\n",
       "            경도  \n",
       "0   127.043069  \n",
       "1   127.022223  \n",
       "2  127.0206057  \n",
       "3   127.031495  \n",
       "4   127.062583  \n",
       "5   127.063196  \n",
       "6  127.0286009  "
      ]
     },
     "execution_count": 59,
     "metadata": {},
     "output_type": "execute_result"
    }
   ],
   "source": [
    "sbDataFrame = pd.DataFrame(starbucksData)\n",
    "sbDataFrame.columns = ['브랜드', '상호', '주소', '시도', '군구', '위도', '경도']\n",
    "sbDataFrame.head(n=7) # 반대 메소드 tail"
   ]
  },
  {
   "cell_type": "code",
   "execution_count": 42,
   "id": "9d5627c9-609b-4811-8d69-1f5335920b52",
   "metadata": {},
   "outputs": [
    {
     "name": "stdout",
     "output_type": "stream",
     "text": [
      "위도 누락 데이터 개수 : 0\n",
      "경도 누락 데이터 개수 : 0\n"
     ]
    }
   ],
   "source": [
    "print('위도 누락 데이터 개수 : %d' % sbDataFrame['위도'].isnull().sum())\n",
    "print('경도 누락 데이터 개수 : %d' % sbDataFrame['경도'].isnull().sum())"
   ]
  },
  {
   "cell_type": "code",
   "execution_count": 43,
   "id": "f2ab0340-9a8b-4ee2-b9a7-dfb75368f091",
   "metadata": {},
   "outputs": [
    {
     "name": "stdout",
     "output_type": "stream",
     "text": [
      "서울시 구 목록 개수 : 25\n",
      "['강남구', '강북구', '강서구', '관악구', '광진구', '금천구', '노원구', '도봉구', '동작구', '마포구', '서대문구', '서초구', '성북구', '송파구', '양천구', '영등포구', '은평구', '종로구', '중구', '강동구', '구로구', '동대문구', '성동구', '용산구', '중랑구']\n"
     ]
    }
   ],
   "source": [
    "guList = list(sbDataFrame['군구'].unique())\n",
    "print('서울시 구 목록 개수 : %d' % len(guList))\n",
    "print(guList)"
   ]
  },
  {
   "cell_type": "code",
   "execution_count": 44,
   "id": "80155b3a-97a8-446e-a63d-3cf76eb8e4fc",
   "metadata": {},
   "outputs": [],
   "source": [
    "# 이디야 매장\n",
    "ediya_url = 'https://ediya.com/contents/find_store.html'\n",
    "driver.get(ediya_url)"
   ]
  },
  {
   "cell_type": "code",
   "execution_count": 45,
   "id": "66862053-8308-4afa-913d-3d917edc0e5c",
   "metadata": {},
   "outputs": [],
   "source": [
    "# 이디야 '매장명'과 '주소' 검색에서 '주소' 클릭\n",
    "ediya_address_selector = '#contentWrap > div.contents > div > div.store_search_pop > ul > li:nth-child(2) > a'\n",
    "WebDriverWait(driver, 5).until(EC.presence_of_element_located((By.CSS_SELECTOR, ediya_address_selector))).click()"
   ]
  },
  {
   "cell_type": "code",
   "execution_count": 46,
   "id": "0e65d318-a07b-4f28-8ead-bf795439f466",
   "metadata": {},
   "outputs": [],
   "source": [
    "# 누락된 위도와 경도 정보는 kakao api를 이용하여 채워 넣도록 합니다.\n",
    "# https://developers.kakao.com/\n",
    "# kakao에 로그인하여 API 키 발급 받기"
   ]
  },
  {
   "cell_type": "code",
   "execution_count": 47,
   "id": "b5469b75-8e0c-4f80-8176-9eb1f51db7cf",
   "metadata": {},
   "outputs": [],
   "source": [
    "url_header = 'https://dapi.kakao.com/v2/local/search/address.json?query='\n",
    "api_key = '16f486bc90ddf8c917b0e903b6bb3ceb'\n",
    "header = {'Authorization': 'KakaoAK ' + api_key}"
   ]
  },
  {
   "cell_type": "code",
   "execution_count": 48,
   "id": "754febab-f47b-405a-b2ab-8e5c819a329c",
   "metadata": {},
   "outputs": [],
   "source": [
    "# 주소를 입력 받아서 위도와 경도를 반환해주는 함수 구현하기\n",
    "def getGeoCoder(address):\n",
    "    result = \"\"\n",
    "    url = url_header + address\n",
    "    response = requests.get(url, headers=header)\n",
    "    # print(response) # 성공시 <Response [200]>으로 리턴 됨\n",
    "    # print(response.json())\n",
    "    if response.status_code == 200:\n",
    "        try:\n",
    "            result_address = response.json()[\"documents\"][0][\"address\"]\n",
    "            result = result_address[\"y\"], result_address[\"x\"]\n",
    "        except Exception as err:\n",
    "            return None\n",
    "    else:\n",
    "        result = \"ERROR[\" + str(response.status_code) + \"]\"\n",
    "\n",
    "    return result\n",
    "# end def   "
   ]
  },
  {
   "cell_type": "code",
   "execution_count": 49,
   "id": "ddc9e777-2787-48f8-ba1d-08ee8e11ac8d",
   "metadata": {},
   "outputs": [],
   "source": [
    "# 한 개의 매장에 대한 테스트를 진행합니다.\n",
    "# geoInfo = getGeoCoder('서울 중랑구 망우로 460 (망우동)') # 잘 동작하는 주소\n",
    "geoInfo = getGeoCoder('서울 노원구 한글비석로 409 (상계동) 1~2층') # NoneType이 리턴되는 주소\n",
    "geoInfo"
   ]
  },
  {
   "cell_type": "code",
   "execution_count": 60,
   "id": "93ffe1b2-5a8e-4c29-a678-cbf1535de397",
   "metadata": {},
   "outputs": [
    {
     "data": {
      "application/vnd.jupyter.widget-view+json": {
       "model_id": "545ce56c86ba4d3e82454988c46bb475",
       "version_major": 2,
       "version_minor": 0
      },
      "text/plain": [
       "  0%|          | 0/25 [00:00<?, ?it/s]"
      ]
     },
     "metadata": {},
     "output_type": "display_data"
    },
    {
     "name": "stdout",
     "output_type": "stream",
     "text": [
      "서울 노원구 한글비석로 409 (상계동) 1~2층\n",
      "서울 노원구 한글비석로 409 (상계동) 1~2층\n",
      "서울 동작구 사당로16가길 96 (사당동) 1,2층\n",
      "서울 동작구 사당로16가길 96 (사당동) 1,2층\n",
      "서울 마포구 백범로 100 (대흥동)\n",
      "서울 마포구 백범로 100 (대흥동)\n",
      "서울 영등포구 영등포로35길 19 (영등포동6가)\n",
      "서울 영등포구 영등포로35길 19 (영등포동6가)\n",
      "이디야 매장 개수 : 573\n"
     ]
    }
   ],
   "source": [
    "ediyaData = []\n",
    "\n",
    "for gu in tqdm(guList):\n",
    "    ediya_search_keyword_css = '#keyword'\n",
    "    \n",
    "    # 이디야 주소 검색어 초기화\n",
    "    WebDriverWait(driver, 10).until(EC.presence_of_element_located((By.CSS_SELECTOR, ediya_search_keyword_css))).clear()\n",
    "    \n",
    "    # 이디야 주소 검색어 입력\n",
    "    # f\"서울 {gu}\" : f-string 기법, 서울 중구, 서울 마포구 등등\n",
    "    WebDriverWait(driver, 10).until(EC.presence_of_element_located\n",
    "                                    ((By.CSS_SELECTOR, ediya_search_keyword_css))).send_keys(f\"서울 {gu}\")\n",
    "\n",
    "    # 이디야 주소 검색 버튼 클릭\n",
    "    ediya_search_button_css = '#keyword_div > form > button'\n",
    "    WebDriverWait(driver, 10).until(EC.presence_of_element_located((By.CSS_SELECTOR, ediya_search_button_css))).click()\n",
    "\n",
    "    html = driver.page_source # 각 구별 매장 정보를 담고 있는 html 소스\n",
    "\n",
    "    # 개별 구에 대한 결과를 파일로 저장해 봅니다.\n",
    "    # filename = open(f'서울 {gu}.html', 'w', encoding='UTF-8')\n",
    "    # print(html, file=filename)\n",
    "    # filename.close()\n",
    "    # print(f'서울 {gu}.html 파일 생성' )\n",
    "\n",
    "    soup = BeautifulSoup(html, 'html.parser')\n",
    "    ul_tag = soup.find('ul', id='placesList')\n",
    "    \n",
    "    oneGuEdiyaList = ul_tag.find_all('li')\n",
    "    for store in oneGuEdiyaList:\n",
    "        # print(store)\n",
    "        brand = '이디야'    \n",
    "        name = store.find('dt').text.strip()\n",
    "        address = store.find('dd').text.strip()\n",
    "        imsi = address.split(' ')\n",
    "        sido = imsi[0]\n",
    "        gu = imsi[1]\n",
    "\n",
    "        # 위도/경도 정보가 들어 있는 문자열\n",
    "        geoInfoString = store.find('a')['onclick']\n",
    "        geoInfoImsi = geoInfoString # 중간에 변형이 이루어 지므로 임시 복사\n",
    "\n",
    "        # 넘파이의 nan으로 무의미한 데이터 만들기\n",
    "        latitude = np.nan # 위도 \n",
    "        longitude = np.nan # 경도 \n",
    "        latLong = ['0', '0']\n",
    "\n",
    "        if geoInfoString.startswith(\"panLatTo\"): \n",
    "            # 올바른 위도/경도가 아님\n",
    "            try:\n",
    "                if geoInfoString.index(r\"panLatTo('0','0'\") == 0: \n",
    "                    geoInfo = getGeoCoder(address) \n",
    "                    if geoInfo != None:\n",
    "                        latitude = geoInfo[0] # 위도\n",
    "                        longitude = geoInfo[1] # 경도\n",
    "                    else:\n",
    "                        print(address)                \n",
    "            except ValueError as err:\n",
    "                # 올바른 위도/경도입니다.\n",
    "                latLong = geoInfoString.replace(r\"panLatTo('\", '').replace(r\"');fnMove();\", '')\n",
    "                latLong = latLong.split(\"','\")\n",
    "        \n",
    "                latitude = latLong[1] \n",
    "                longitude = latLong[0]                \n",
    "            # end try\n",
    "\n",
    "        else: # 'panAddTo'으로 시작하는 경우\n",
    "            geoInfo = getGeoCoder(address) \n",
    "            if geoInfo != None:\n",
    "                latitude = geoInfo[0] # 위도\n",
    "                longitude = geoInfo[1] # 경도\n",
    "            else:\n",
    "                print(address)\n",
    "        # end if\n",
    "\n",
    "        # 올바른 위도 경도 형식이 아니면\n",
    "        if latLong[1] == '0' or latLong[0] == '0':            \n",
    "            # 카카오 지도 api 이용하여 위도와 경도를 취득합니다.\n",
    "            geoInfo = getGeoCoder(address) \n",
    "            if geoInfo != None:\n",
    "                latitude = geoInfo[0] # 위도\n",
    "                longitude = geoInfo[1] # 경도\n",
    "            else:\n",
    "                print(address)\n",
    "        # end if\n",
    "        \n",
    "        ediyaData.append([brand, name, address, sido, gu, latitude, longitude, geoInfoImsi])        \n",
    "        \n",
    "        # break\n",
    "    # print('-'*30)\n",
    "    \n",
    "# end for    \n",
    "\n",
    "print('이디야 매장 개수 : %d' % len(ediyaData))"
   ]
  },
  {
   "cell_type": "code",
   "execution_count": 61,
   "id": "4d4bbdb9-5772-424b-8d12-3b2295407307",
   "metadata": {},
   "outputs": [
    {
     "data": {
      "text/html": [
       "<div>\n",
       "<style scoped>\n",
       "    .dataframe tbody tr th:only-of-type {\n",
       "        vertical-align: middle;\n",
       "    }\n",
       "\n",
       "    .dataframe tbody tr th {\n",
       "        vertical-align: top;\n",
       "    }\n",
       "\n",
       "    .dataframe thead th {\n",
       "        text-align: right;\n",
       "    }\n",
       "</style>\n",
       "<table border=\"1\" class=\"dataframe\">\n",
       "  <thead>\n",
       "    <tr style=\"text-align: right;\">\n",
       "      <th></th>\n",
       "      <th>브랜드</th>\n",
       "      <th>상호</th>\n",
       "      <th>주소</th>\n",
       "      <th>시도</th>\n",
       "      <th>군구</th>\n",
       "      <th>위도</th>\n",
       "      <th>경도</th>\n",
       "      <th>geoInfoImsi</th>\n",
       "    </tr>\n",
       "  </thead>\n",
       "  <tbody>\n",
       "    <tr>\n",
       "      <th>0</th>\n",
       "      <td>이디야</td>\n",
       "      <td>금란망우점</td>\n",
       "      <td>서울 중랑구 망우로 460 (망우동)</td>\n",
       "      <td>서울</td>\n",
       "      <td>중랑구</td>\n",
       "      <td>37.6001065609187</td>\n",
       "      <td>127.103136691889</td>\n",
       "      <td>panLatTo('0','0','0');fnMove();</td>\n",
       "    </tr>\n",
       "    <tr>\n",
       "      <th>1</th>\n",
       "      <td>이디야</td>\n",
       "      <td>동원사거리점</td>\n",
       "      <td>서울 중랑구 겸재로 240 (면목동, 행복오피스텔)</td>\n",
       "      <td>서울</td>\n",
       "      <td>중랑구</td>\n",
       "      <td>37.5896269575279</td>\n",
       "      <td>127.094182772191</td>\n",
       "      <td>panLatTo('127.094182772191','37.5896269575279'...</td>\n",
       "    </tr>\n",
       "    <tr>\n",
       "      <th>2</th>\n",
       "      <td>이디야</td>\n",
       "      <td>망우동점</td>\n",
       "      <td>서울 중랑구 망우로 416 (망우동)</td>\n",
       "      <td>서울</td>\n",
       "      <td>중랑구</td>\n",
       "      <td>37.5991657770242</td>\n",
       "      <td>127.098351137589</td>\n",
       "      <td>panLatTo('0','0','2');fnMove();</td>\n",
       "    </tr>\n",
       "    <tr>\n",
       "      <th>3</th>\n",
       "      <td>이디야</td>\n",
       "      <td>망우중앙점</td>\n",
       "      <td>서울 중랑구 용마산로115길 109 (망우동, 한일써너스빌리젠시2단지)</td>\n",
       "      <td>서울</td>\n",
       "      <td>중랑구</td>\n",
       "      <td>37.5974674047065</td>\n",
       "      <td>127.09415879594557</td>\n",
       "      <td>panLatTo('127.09415879594557','37.597467404706...</td>\n",
       "    </tr>\n",
       "    <tr>\n",
       "      <th>4</th>\n",
       "      <td>이디야</td>\n",
       "      <td>망우코레일점</td>\n",
       "      <td>서울 중랑구 망우로55길 11-10 (상봉동, 망우역)</td>\n",
       "      <td>서울</td>\n",
       "      <td>중랑구</td>\n",
       "      <td>37.5992876153903</td>\n",
       "      <td>127.092756577852</td>\n",
       "      <td>panLatTo('127.092756577852','37.5992876153903'...</td>\n",
       "    </tr>\n",
       "  </tbody>\n",
       "</table>\n",
       "</div>"
      ],
      "text/plain": [
       "   브랜드      상호                                       주소  시도   군구  \\\n",
       "0  이디야   금란망우점                     서울 중랑구 망우로 460 (망우동)  서울  중랑구   \n",
       "1  이디야  동원사거리점             서울 중랑구 겸재로 240 (면목동, 행복오피스텔)  서울  중랑구   \n",
       "2  이디야    망우동점                     서울 중랑구 망우로 416 (망우동)  서울  중랑구   \n",
       "3  이디야   망우중앙점  서울 중랑구 용마산로115길 109 (망우동, 한일써너스빌리젠시2단지)  서울  중랑구   \n",
       "4  이디야  망우코레일점           서울 중랑구 망우로55길 11-10 (상봉동, 망우역)  서울  중랑구   \n",
       "\n",
       "                 위도                  경도  \\\n",
       "0  37.6001065609187    127.103136691889   \n",
       "1  37.5896269575279    127.094182772191   \n",
       "2  37.5991657770242    127.098351137589   \n",
       "3  37.5974674047065  127.09415879594557   \n",
       "4  37.5992876153903    127.092756577852   \n",
       "\n",
       "                                         geoInfoImsi  \n",
       "0                    panLatTo('0','0','0');fnMove();  \n",
       "1  panLatTo('127.094182772191','37.5896269575279'...  \n",
       "2                    panLatTo('0','0','2');fnMove();  \n",
       "3  panLatTo('127.09415879594557','37.597467404706...  \n",
       "4  panLatTo('127.092756577852','37.5992876153903'...  "
      ]
     },
     "execution_count": 61,
     "metadata": {},
     "output_type": "execute_result"
    }
   ],
   "source": [
    "ediyaDataFrame = pd.DataFrame(ediyaData)\n",
    "ediyaDataFrame.columns = ['브랜드', '상호', '주소', '시도', '군구', '위도', '경도', 'geoInfoImsi']\n",
    "ediyaDataFrame.head()"
   ]
  },
  {
   "cell_type": "code",
   "execution_count": 52,
   "id": "be62fca8-98ce-46b8-9471-3ccbcfaf0307",
   "metadata": {},
   "outputs": [
    {
     "name": "stdout",
     "output_type": "stream",
     "text": [
      "위도 누락 데이터 개수 : 4\n",
      "경도 누락 데이터 개수 : 4\n"
     ]
    }
   ],
   "source": [
    "print('위도 누락 데이터 개수 : %d' % ediyaDataFrame['위도'].isnull().sum())\n",
    "print('경도 누락 데이터 개수 : %d' % ediyaDataFrame['경도'].isnull().sum())"
   ]
  },
  {
   "cell_type": "code",
   "execution_count": 53,
   "id": "af5375d7-e977-4185-aed3-488362d0ea78",
   "metadata": {},
   "outputs": [
    {
     "name": "stdout",
     "output_type": "stream",
     "text": [
      "스타 벅스 매장 개수 : 615\n",
      "이디야 매장 개수 : 549\n"
     ]
    }
   ],
   "source": [
    "print('스타 벅스 매장 개수 : %d' % len(sbDataFrame))\n",
    "print('이디야 매장 개수 : %d' % len(ediyaDataFrame))"
   ]
  },
  {
   "cell_type": "code",
   "execution_count": 62,
   "id": "02a0b3f0-943d-4ffc-b678-e912a113dba5",
   "metadata": {},
   "outputs": [
    {
     "name": "stdout",
     "output_type": "stream",
     "text": [
      "전체 매장 개수 : 1188\n"
     ]
    }
   ],
   "source": [
    "# 임시 컬럼을 제거하고, 2 매장의 데이터 프레임을 합칩니다.\n",
    "ediyaDataFrame = ediyaDataFrame.drop('geoInfoImsi', axis=1)\n",
    "coffeeFrame = pd.concat([sbDataFrame, ediyaDataFrame])\n",
    "print('전체 매장 개수 : %d' % len(coffeeFrame))"
   ]
  },
  {
   "cell_type": "code",
   "execution_count": 65,
   "id": "dc3bbc6b-f760-4ac9-9bf0-afd9b909048b",
   "metadata": {},
   "outputs": [
    {
     "name": "stdout",
     "output_type": "stream",
     "text": [
      "<class 'list'>\n",
      "{'서울': '서울특별시', '서울시': '서울특별시', '진해': '창원', '마산': '창원', '부산': '부산광역시', '부산시': '부산광역시'}\n"
     ]
    }
   ],
   "source": [
    "# 보정을 위한 텍스트 파일을 읽어서, 사전을 생성합니다.\n",
    "sido_txt = open('sido_dict.txt',mode='rt',encoding='UTF-8')\n",
    "\n",
    "sido_dict = dict()\n",
    "\n",
    "sido_list = sido_txt.readlines()\n",
    "print(type(sido_list))\n",
    "\n",
    "for oneline in sido_list:\n",
    "    # print('[' + oneline + ']')\n",
    "    mydata = oneline.replace('\\n' ,'').split(':')\n",
    "    sido_dict[mydata[0]] = mydata[1]\n",
    "print(sido_dict)"
   ]
  },
  {
   "cell_type": "code",
   "execution_count": 69,
   "id": "d7adfdb3-9d50-439b-b10b-ede0b28ba8cc",
   "metadata": {},
   "outputs": [
    {
     "data": {
      "text/plain": [
       "array(['서울특별시'], dtype=object)"
      ]
     },
     "execution_count": 69,
     "metadata": {},
     "output_type": "execute_result"
    }
   ],
   "source": [
    "coffeeFrame.loc[:, '시도'] = coffeeFrame.loc[:, '시도'].apply(lambda xxx : sido_dict.get(xxx, xxx))\n",
    "coffeeFrame['시도'].unique()"
   ]
  },
  {
   "cell_type": "code",
   "execution_count": 67,
   "id": "cab137d1-ef59-484f-8152-cdfecebb7c77",
   "metadata": {},
   "outputs": [
    {
     "data": {
      "text/plain": [
       "array(['서울특별시', '서울'], dtype=object)"
      ]
     },
     "execution_count": 67,
     "metadata": {},
     "output_type": "execute_result"
    }
   ],
   "source": [
    "coffeeFrame['시도'].unique()"
   ]
  },
  {
   "cell_type": "code",
   "execution_count": 71,
   "id": "06b28a3e-e918-4f4f-9689-29302c9d6ffb",
   "metadata": {},
   "outputs": [
    {
     "data": {
      "text/html": [
       "<div>\n",
       "<style scoped>\n",
       "    .dataframe tbody tr th:only-of-type {\n",
       "        vertical-align: middle;\n",
       "    }\n",
       "\n",
       "    .dataframe tbody tr th {\n",
       "        vertical-align: top;\n",
       "    }\n",
       "\n",
       "    .dataframe thead th {\n",
       "        text-align: right;\n",
       "    }\n",
       "</style>\n",
       "<table border=\"1\" class=\"dataframe\">\n",
       "  <thead>\n",
       "    <tr style=\"text-align: right;\">\n",
       "      <th></th>\n",
       "      <th>브랜드</th>\n",
       "      <th>상호</th>\n",
       "      <th>주소</th>\n",
       "      <th>시도</th>\n",
       "      <th>군구</th>\n",
       "      <th>위도</th>\n",
       "      <th>경도</th>\n",
       "    </tr>\n",
       "  </thead>\n",
       "  <tbody>\n",
       "    <tr>\n",
       "      <th>170</th>\n",
       "      <td>이디야</td>\n",
       "      <td>상계역사거리점</td>\n",
       "      <td>서울 노원구 한글비석로 409 (상계동) 1~2층</td>\n",
       "      <td>서울특별시</td>\n",
       "      <td>노원구</td>\n",
       "      <td>NaN</td>\n",
       "      <td>NaN</td>\n",
       "    </tr>\n",
       "    <tr>\n",
       "      <th>219</th>\n",
       "      <td>이디야</td>\n",
       "      <td>총신대점</td>\n",
       "      <td>서울 동작구 사당로16가길 96 (사당동) 1,2층</td>\n",
       "      <td>서울특별시</td>\n",
       "      <td>동작구</td>\n",
       "      <td>NaN</td>\n",
       "      <td>NaN</td>\n",
       "    </tr>\n",
       "    <tr>\n",
       "      <th>223</th>\n",
       "      <td>이디야</td>\n",
       "      <td>대흥역점</td>\n",
       "      <td>서울 마포구 백범로 100 (대흥동)</td>\n",
       "      <td>서울특별시</td>\n",
       "      <td>마포구</td>\n",
       "      <td>NaN</td>\n",
       "      <td>NaN</td>\n",
       "    </tr>\n",
       "    <tr>\n",
       "      <th>388</th>\n",
       "      <td>이디야</td>\n",
       "      <td>영등포시장점</td>\n",
       "      <td>서울 영등포구 영등포로35길 19 (영등포동6가)</td>\n",
       "      <td>서울특별시</td>\n",
       "      <td>영등포구</td>\n",
       "      <td>NaN</td>\n",
       "      <td>NaN</td>\n",
       "    </tr>\n",
       "  </tbody>\n",
       "</table>\n",
       "</div>"
      ],
      "text/plain": [
       "     브랜드       상호                            주소     시도    군구   위도   경도\n",
       "170  이디야  상계역사거리점   서울 노원구 한글비석로 409 (상계동) 1~2층  서울특별시   노원구  NaN  NaN\n",
       "219  이디야     총신대점  서울 동작구 사당로16가길 96 (사당동) 1,2층  서울특별시   동작구  NaN  NaN\n",
       "223  이디야     대흥역점          서울 마포구 백범로 100 (대흥동)  서울특별시   마포구  NaN  NaN\n",
       "388  이디야   영등포시장점   서울 영등포구 영등포로35길 19 (영등포동6가)  서울특별시  영등포구  NaN  NaN"
      ]
     },
     "execution_count": 71,
     "metadata": {},
     "output_type": "execute_result"
    }
   ],
   "source": [
    "# 위도에 누락된 매장 정보 확인\n",
    "missing_latitude = coffeeFrame[coffeeFrame['위도'].isnull()]\n",
    "missing_latitude"
   ]
  },
  {
   "cell_type": "code",
   "execution_count": 72,
   "id": "e6a3686d-5646-412f-b315-9089e0846591",
   "metadata": {},
   "outputs": [],
   "source": [
    "# 위도 경도를 수동으로 넣어 주기 작업\n",
    "coffeeFrame.loc[170, ['위도', '경도']] = [37.5, 127.05]\n",
    "coffeeFrame.loc[219, ['위도', '경도']] = [37.5, 127.05]\n",
    "coffeeFrame.loc[223, ['위도', '경도']] = [37.5, 127.05]\n",
    "coffeeFrame.loc[388, ['위도', '경도']] = [37.5, 127.05]"
   ]
  },
  {
   "cell_type": "code",
   "execution_count": 73,
   "id": "3e26b51c-79ff-4124-9498-5303832f5eac",
   "metadata": {},
   "outputs": [
    {
     "name": "stdout",
     "output_type": "stream",
     "text": [
      "coffeeList.csv 파일 저장됨\n"
     ]
    }
   ],
   "source": [
    "filename = 'coffeeList.csv'\n",
    "# coffeeFrame.to_csv(filename, encoding='CP949', index=False) # 엑셀에서 한글 안깨지고 보려면\n",
    "coffeeFrame.to_csv(filename, encoding='UTF-8', index=True) # 일반적인 방법\n",
    "print(filename + ' 파일 저장됨')"
   ]
  },
  {
   "cell_type": "code",
   "execution_count": 86,
   "id": "145add04-5f21-45b5-ba77-488dacbca4f2",
   "metadata": {},
   "outputs": [
    {
     "name": "stdout",
     "output_type": "stream",
     "text": [
      "138\n"
     ]
    }
   ],
   "source": [
    "# 지도 그리기 : '군구' 컬럼이 '마포구', '용산구', '서대문구'인 항목들만 추출\n",
    "mapFrame = coffeeFrame[coffeeFrame['군구'].isin(['마포구','서대문구', '용산구'])]\n",
    "print(len(mapFrame))"
   ]
  },
  {
   "cell_type": "code",
   "execution_count": 88,
   "id": "67dc47f3-d272-4925-bf26-2299c2e73a63",
   "metadata": {},
   "outputs": [
    {
     "name": "stderr",
     "output_type": "stream",
     "text": [
      "C:\\Users\\lunim\\AppData\\Local\\Temp\\ipykernel_20420\\902650962.py:1: SettingWithCopyWarning: \n",
      "A value is trying to be set on a copy of a slice from a DataFrame.\n",
      "Try using .loc[row_indexer,col_indexer] = value instead\n",
      "\n",
      "See the caveats in the documentation: https://pandas.pydata.org/pandas-docs/stable/user_guide/indexing.html#returning-a-view-versus-a-copy\n",
      "  mapFrame['위도'] = pd.to_numeric(mapFrame['위도'], errors='coerce')\n",
      "C:\\Users\\lunim\\AppData\\Local\\Temp\\ipykernel_20420\\902650962.py:2: SettingWithCopyWarning: \n",
      "A value is trying to be set on a copy of a slice from a DataFrame.\n",
      "Try using .loc[row_indexer,col_indexer] = value instead\n",
      "\n",
      "See the caveats in the documentation: https://pandas.pydata.org/pandas-docs/stable/user_guide/indexing.html#returning-a-view-versus-a-copy\n",
      "  mapFrame['경도'] = pd.to_numeric(mapFrame['경도'], errors='coerce')\n"
     ]
    }
   ],
   "source": [
    "mapFrame['위도'] = pd.to_numeric(mapFrame['위도'], errors='coerce')\n",
    "mapFrame['경도'] = pd.to_numeric(mapFrame['경도'], errors='coerce')"
   ]
  },
  {
   "cell_type": "code",
   "execution_count": 93,
   "id": "bda99403-0ed9-4889-8466-0afb44a0b0da",
   "metadata": {},
   "outputs": [
    {
     "name": "stdout",
     "output_type": "stream",
     "text": [
      "<class 'pandas.core.series.Series'>\n",
      "총합 : 5182.291040841953\n",
      "최소 : 37.5\n",
      "최대 : 37.594570187466\n",
      "평균 : 37.552833629289516\n",
      "중앙값 : 37.55423527802193\n",
      "표준 편차 : 0.016978046271204115\n"
     ]
    }
   ],
   "source": [
    "latitude = mapFrame['위도']\n",
    "print(type(latitude))\n",
    "print('총합 : ' + str(latitude.sum()))\n",
    "print('최소 : ' + str(latitude.min()))\n",
    "print('최대 : ' + str(latitude.max()))\n",
    "print('평균 : ' + str(latitude.mean()))\n",
    "print('중앙값 : ' + str(latitude.median()))\n",
    "print('표준 편차 : ' + str(latitude.std()))"
   ]
  },
  {
   "cell_type": "code",
   "execution_count": 94,
   "id": "cd6a69b2-2f3a-4cad-91a3-def84af8d983",
   "metadata": {},
   "outputs": [
    {
     "name": "stdout",
     "output_type": "stream",
     "text": [
      "[np.float64(37.552833629289516), np.float64(126.94369741275432)]\n"
     ]
    }
   ],
   "source": [
    "map_center = [mapFrame['위도'].mean(), mapFrame['경도'].mean()]\n",
    "print(map_center)\n",
    "mapData = folium.Map(location=map_center, zoom_start=11.5, control_scale=True, title='openstreepMap')"
   ]
  },
  {
   "cell_type": "code",
   "execution_count": 95,
   "id": "600994cd-ab53-46d4-beb4-4d1c8b05529a",
   "metadata": {},
   "outputs": [
    {
     "data": {
      "text/html": [
       "<div style=\"width:100%;\"><div style=\"position:relative;width:100%;height:0;padding-bottom:60%;\"><span style=\"color:#565656\">Make this Notebook Trusted to load map: File -> Trust Notebook</span><iframe srcdoc=\"&lt;!DOCTYPE html&gt;\n",
       "&lt;html&gt;\n",
       "&lt;head&gt;\n",
       "    \n",
       "    &lt;meta http-equiv=&quot;content-type&quot; content=&quot;text/html; charset=UTF-8&quot; /&gt;\n",
       "    \n",
       "        &lt;script&gt;\n",
       "            L_NO_TOUCH = false;\n",
       "            L_DISABLE_3D = false;\n",
       "        &lt;/script&gt;\n",
       "    \n",
       "    &lt;style&gt;html, body {width: 100%;height: 100%;margin: 0;padding: 0;}&lt;/style&gt;\n",
       "    &lt;style&gt;#map {position:absolute;top:0;bottom:0;right:0;left:0;}&lt;/style&gt;\n",
       "    &lt;script src=&quot;https://cdn.jsdelivr.net/npm/leaflet@1.9.3/dist/leaflet.js&quot;&gt;&lt;/script&gt;\n",
       "    &lt;script src=&quot;https://code.jquery.com/jquery-3.7.1.min.js&quot;&gt;&lt;/script&gt;\n",
       "    &lt;script src=&quot;https://cdn.jsdelivr.net/npm/bootstrap@5.2.2/dist/js/bootstrap.bundle.min.js&quot;&gt;&lt;/script&gt;\n",
       "    &lt;script src=&quot;https://cdnjs.cloudflare.com/ajax/libs/Leaflet.awesome-markers/2.0.2/leaflet.awesome-markers.js&quot;&gt;&lt;/script&gt;\n",
       "    &lt;link rel=&quot;stylesheet&quot; href=&quot;https://cdn.jsdelivr.net/npm/leaflet@1.9.3/dist/leaflet.css&quot;/&gt;\n",
       "    &lt;link rel=&quot;stylesheet&quot; href=&quot;https://cdn.jsdelivr.net/npm/bootstrap@5.2.2/dist/css/bootstrap.min.css&quot;/&gt;\n",
       "    &lt;link rel=&quot;stylesheet&quot; href=&quot;https://netdna.bootstrapcdn.com/bootstrap/3.0.0/css/bootstrap-glyphicons.css&quot;/&gt;\n",
       "    &lt;link rel=&quot;stylesheet&quot; href=&quot;https://cdn.jsdelivr.net/npm/@fortawesome/fontawesome-free@6.2.0/css/all.min.css&quot;/&gt;\n",
       "    &lt;link rel=&quot;stylesheet&quot; href=&quot;https://cdnjs.cloudflare.com/ajax/libs/Leaflet.awesome-markers/2.0.2/leaflet.awesome-markers.css&quot;/&gt;\n",
       "    &lt;link rel=&quot;stylesheet&quot; href=&quot;https://cdn.jsdelivr.net/gh/python-visualization/folium/folium/templates/leaflet.awesome.rotate.min.css&quot;/&gt;\n",
       "    \n",
       "            &lt;meta name=&quot;viewport&quot; content=&quot;width=device-width,\n",
       "                initial-scale=1.0, maximum-scale=1.0, user-scalable=no&quot; /&gt;\n",
       "            &lt;style&gt;\n",
       "                #map_a7c9147d2de561d60b3041ab31a38fac {\n",
       "                    position: relative;\n",
       "                    width: 100.0%;\n",
       "                    height: 100.0%;\n",
       "                    left: 0.0%;\n",
       "                    top: 0.0%;\n",
       "                }\n",
       "                .leaflet-container { font-size: 1rem; }\n",
       "            &lt;/style&gt;\n",
       "        \n",
       "&lt;/head&gt;\n",
       "&lt;body&gt;\n",
       "    \n",
       "    \n",
       "            &lt;div class=&quot;folium-map&quot; id=&quot;map_a7c9147d2de561d60b3041ab31a38fac&quot; &gt;&lt;/div&gt;\n",
       "        \n",
       "&lt;/body&gt;\n",
       "&lt;script&gt;\n",
       "    \n",
       "    \n",
       "            var map_a7c9147d2de561d60b3041ab31a38fac = L.map(\n",
       "                &quot;map_a7c9147d2de561d60b3041ab31a38fac&quot;,\n",
       "                {\n",
       "                    center: [37.552833629289516, 126.94369741275432],\n",
       "                    crs: L.CRS.EPSG3857,\n",
       "                    zoom: 11.5,\n",
       "                    zoomControl: true,\n",
       "                    preferCanvas: false,\n",
       "                    title: &quot;openstreepMap&quot;,\n",
       "                }\n",
       "            );\n",
       "            L.control.scale().addTo(map_a7c9147d2de561d60b3041ab31a38fac);\n",
       "\n",
       "            \n",
       "\n",
       "        \n",
       "    \n",
       "            var tile_layer_b0d11c80c73c9ffea503cdab833e6d8f = L.tileLayer(\n",
       "                &quot;https://tile.openstreetmap.org/{z}/{x}/{y}.png&quot;,\n",
       "                {&quot;attribution&quot;: &quot;\\u0026copy; \\u003ca href=\\&quot;https://www.openstreetmap.org/copyright\\&quot;\\u003eOpenStreetMap\\u003c/a\\u003e contributors&quot;, &quot;detectRetina&quot;: false, &quot;maxNativeZoom&quot;: 19, &quot;maxZoom&quot;: 19, &quot;minZoom&quot;: 0, &quot;noWrap&quot;: false, &quot;opacity&quot;: 1, &quot;subdomains&quot;: &quot;abc&quot;, &quot;tms&quot;: false}\n",
       "            );\n",
       "        \n",
       "    \n",
       "            tile_layer_b0d11c80c73c9ffea503cdab833e6d8f.addTo(map_a7c9147d2de561d60b3041ab31a38fac);\n",
       "        \n",
       "&lt;/script&gt;\n",
       "&lt;/html&gt;\" style=\"position:absolute;width:100%;height:100%;left:0;top:0;border:none !important;\" allowfullscreen webkitallowfullscreen mozallowfullscreen></iframe></div></div>"
      ],
      "text/plain": [
       "<folium.folium.Map at 0x28385405df0>"
      ]
     },
     "execution_count": 95,
     "metadata": {},
     "output_type": "execute_result"
    }
   ],
   "source": [
    "for idx, row in mapFrame.iterrows():\n",
    "    # 브랜드별 마커 색상 설정\n",
    "    if ro['브랜드'] == '이디야':\n",
    "        mk_color = 'darkblue' # 마커 색상\n",
    "        ic_color = 'white' # 아이콘 색상\n",
    "    elif ro['브랜드'] == '스타벅스':\n",
    "        mk_color = 'green'\n",
    "        ic_color = 'white'\n",
    "    #end if\n",
    "\n",
    "    # 지도에 마커 생성하기\n",
    "    folium.Marker(\n",
    "        location[row['위도'], row['경도']],\n",
    "        popup = row['주소'],\n",
    "        tooltip = row['브랜드'],\n",
    "        icon = folium.Icon(\n",
    "            color = mk_color,\n",
    "            icon_color = ic_color,\n",
    "            icon = 'coffee',\n",
    "            prefix = 'fa'\n",
    "        )\n",
    "    ).add_to(mapData)\n",
    "# end for"
   ]
  },
  {
   "cell_type": "code",
   "execution_count": null,
   "id": "75571c01-7792-4b46-a8ea-1ff4df73fb3d",
   "metadata": {},
   "outputs": [],
   "source": [
    "# 내일 할일\n",
    "# 포리움으로 지도 그리기\n",
    "# 위경도 공란 데이터는 Google Maps Geocoding API에서 구해가지고 수동으로 치환하기"
   ]
  },
  {
   "cell_type": "code",
   "execution_count": null,
   "id": "1afa7d4d-2abf-47f8-934d-b9f9ebacd204",
   "metadata": {},
   "outputs": [],
   "source": []
  }
 ],
 "metadata": {
  "kernelspec": {
   "display_name": "Python 3 (ipykernel)",
   "language": "python",
   "name": "python3"
  },
  "language_info": {
   "codemirror_mode": {
    "name": "ipython",
    "version": 3
   },
   "file_extension": ".py",
   "mimetype": "text/x-python",
   "name": "python",
   "nbconvert_exporter": "python",
   "pygments_lexer": "ipython3",
   "version": "3.12.3"
  }
 },
 "nbformat": 4,
 "nbformat_minor": 5
}
